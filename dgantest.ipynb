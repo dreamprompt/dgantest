{
  "nbformat": 4,
  "nbformat_minor": 0,
  "metadata": {
    "colab": {
      "provenance": []
    },
    "kernelspec": {
      "name": "python3",
      "display_name": "Python 3"
    },
    "language_info": {
      "name": "python"
    }
  },
  "cells": [
    {
      "cell_type": "code",
      "execution_count": null,
      "metadata": {
        "id": "6Qv2HZMXQy7n"
      },
      "outputs": [],
      "source": [
        "# !pip install git+https://github.com/gretelai/gretel-synthetics.git\n",
        "!pip install tensorflow==2.11 # for LSTM\n",
        "!pip install sdv<0.18 # for ACTGAN\n",
        "!pip install torch==2.0 # for Timeseries DGAN"
      ]
    },
    {
      "cell_type": "code",
      "source": [
        "import pandas as pd\n",
        "import numpy as np\n",
        "\n",
        "import matplotlib.pyplot as plt\n",
        "import matplotlib.dates as md\n",
        "\n",
        "import torch\n",
        "\n",
        "!pip install gretel-synthetics\n",
        "from gretel_synthetics.timeseries_dgan.dgan import DGAN\n",
        "from gretel_synthetics.timeseries_dgan.config import DGANConfig, OutputType"
      ],
      "metadata": {
        "id": "mOpiLkIfQ168"
      },
      "execution_count": null,
      "outputs": []
    },
    {
      "cell_type": "code",
      "source": [
        "# Define the path to the file\n",
        "file_path = '...'\n",
        "\n",
        "# Load the data into a Pandas dataframe\n",
        "df = pd.read_csv(file_path)\n",
        "\n",
        "# Print the first few rows of the dataframe to verify that the data has been loaded correctly\n",
        "print(df.head())"
      ],
      "metadata": {
        "id": "ZgRR5nZXQ324"
      },
      "execution_count": null,
      "outputs": []
    },
    {
      "cell_type": "code",
      "source": [
        "# Define the path to the file\n",
        "file_path2 = '...'\n",
        "demo = pd.read_csv(file_path2)\n",
        "print(demo.head())"
      ],
      "metadata": {
        "id": "ZEj26cJIQ-ZL"
      },
      "execution_count": null,
      "outputs": []
    },
    {
      "cell_type": "code",
      "source": [
        "# find unique value of SEQN\n",
        "unique_seqn = df['SEQN'].unique()\n",
        "print(unique_seqn)"
      ],
      "metadata": {
        "id": "nx_O_LVARB1X"
      },
      "execution_count": null,
      "outputs": []
    },
    {
      "cell_type": "code",
      "source": [
        "counts = df['SEQN'].value_counts()\n",
        "print(counts)"
      ],
      "metadata": {
        "id": "EWfPNaIFRDzj"
      },
      "execution_count": null,
      "outputs": []
    },
    {
      "cell_type": "code",
      "source": [
        "all_counts_equal = all(counts == 10080)\n",
        "print(all_counts_equal)"
      ],
      "metadata": {
        "id": "bi4lgK8tRFQr"
      },
      "execution_count": null,
      "outputs": []
    },
    {
      "cell_type": "code",
      "source": [
        "random_num = 50\n",
        "np.random.seed(123)\n",
        "random_seqn = np.random.choice(unique_seqn, size=random_num, replace=False)\n",
        "print(random_seqn)"
      ],
      "metadata": {
        "id": "qpo0MDnQRJE4"
      },
      "execution_count": null,
      "outputs": []
    },
    {
      "cell_type": "code",
      "source": [
        "ts = df[['SEQN','PAXMTSM']]"
      ],
      "metadata": {
        "id": "oH0RHphsRJnO"
      },
      "execution_count": null,
      "outputs": []
    },
    {
      "cell_type": "code",
      "source": [
        "subset_df = ts[ts['SEQN'].isin(random_seqn)]\n",
        "print(subset_df)"
      ],
      "metadata": {
        "id": "rhjJG2e8RLtx"
      },
      "execution_count": null,
      "outputs": []
    },
    {
      "cell_type": "code",
      "source": [
        "subset_demo = demo[demo['SEQN'].isin(random_seqn)]\n",
        "print(subset_demo)"
      ],
      "metadata": {
        "id": "Op61AHQ-RQGK"
      },
      "execution_count": null,
      "outputs": []
    },
    {
      "cell_type": "code",
      "source": [
        "day_len = 1440\n",
        "day_num = 7"
      ],
      "metadata": {
        "id": "bragEI5HRRoy"
      },
      "execution_count": null,
      "outputs": []
    },
    {
      "cell_type": "code",
      "source": [
        "num_patients = len(subset_df) // (day_len*day_num)  # calculate the number of patients based on the length of the DataFrame\n",
        "print(num_patients)"
      ],
      "metadata": {
        "id": "vkOPKsZHRVJV"
      },
      "execution_count": null,
      "outputs": []
    },
    {
      "cell_type": "code",
      "source": [
        "# DGAN needs many example time series to train. Split into 1-day slices to\n",
        "# create multiple examples.\n",
        "features = subset_df[['PAXMTSM']].to_numpy()\n",
        "# Obsevations every 1 minutes, so 1440 * 1 minutes = 1 day\n",
        "n = features.shape[0] // day_len\n",
        "features = features[:(n*day_len),:].reshape(-1, day_len, features.shape[1])\n",
        "# Shape is now (# examples, # time points, # features)\n",
        "#features[:, :, -1] = np.trunc(features[:, :, -1]).astype(np.int64)\n",
        "print(features.shape)\n",
        "print(features[0])"
      ],
      "metadata": {
        "id": "s3NJlQK9RW6u"
      },
      "execution_count": null,
      "outputs": []
    },
    {
      "cell_type": "code",
      "source": [
        "fig, ax = plt.subplots(50, 1, figsize=(10, 100))  # create a 50x1 grid of subplots\n",
        "\n",
        "for j in range(50):\n",
        "    for i in range(7):\n",
        "        ax[j].plot(np.arange(0, 1440, 1), features[j*7+i,:,:])  # plot data on the j-th subplot\n",
        "\n",
        "plt.show()  # display the figure"
      ],
      "metadata": {
        "id": "pxzOuKcFRY_z"
      },
      "execution_count": null,
      "outputs": []
    },
    {
      "cell_type": "code",
      "source": [
        "#attributes: gender, age, race\n",
        "o_a = subset_demo[['RIAGENDR', 'RIDAGEYR', 'RIDRETH1']].to_numpy()"
      ],
      "metadata": {
        "id": "1Urbq-Y9Rau_"
      },
      "execution_count": null,
      "outputs": []
    },
    {
      "cell_type": "code",
      "source": [
        "attributes = np.repeat(o_a, day_num, axis=0)"
      ],
      "metadata": {
        "id": "VBXETalGRcVn"
      },
      "execution_count": null,
      "outputs": []
    },
    {
      "cell_type": "code",
      "source": [
        "model_wa = DGAN(DGANConfig(\n",
        "        max_sequence_len=day_len,\n",
        "        sample_len=10,\n",
        "        batch_size= 30,\n",
        "        apply_feature_scaling=min(1000,features.shape[0]),\n",
        "        apply_example_scaling=True,\n",
        "        use_attribute_discriminator=True,\n",
        "        generator_learning_rate=1e-4,\n",
        "        discriminator_learning_rate=1e-4,\n",
        "        epochs=1,\n",
        "    ))\n",
        "model_wa.train_numpy(\n",
        "    attributes = attributes,\n",
        "    features = features,\n",
        "    attribute_types=[OutputType.DISCRETE, OutputType.DISCRETE, OutputType.DISCRETE],\n",
        "    #feature_types=[OutputType.CONTINUOUS, OutputType.DISCRETE],\n",
        "    feature_types=[OutputType.CONTINUOUS],\n",
        ")"
      ],
      "metadata": {
        "id": "9D_Wal1qReD_"
      },
      "execution_count": null,
      "outputs": []
    },
    {
      "cell_type": "code",
      "source": [
        "aaa,_= model_wa.generate_numpy(350)"
      ],
      "metadata": {
        "id": "Jc_JWR9qRgcm"
      },
      "execution_count": null,
      "outputs": []
    }
  ]
}